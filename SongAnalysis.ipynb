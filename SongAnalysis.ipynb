{
  "cells": [
    {
      "cell_type": "code",
      "execution_count": 1,
      "id": "initial_id",
      "metadata": {
        "ExecuteTime": {
          "end_time": "2024-09-30T09:20:00.910590Z",
          "start_time": "2024-09-30T09:20:00.894459Z"
        },
        "id": "initial_id",
        "scrolled": true
      },
      "outputs": [],
      "source": [
        "import os\n",
        "import librosa\n",
        "import numpy as np\n",
        "import pandas as pd\n",
        "import pandas as pd\n",
        "import pandas as pd\n",
        "from sklearn.model_selection import train_test_split\n",
        "from sklearn.neural_network import MLPClassifier\n",
        "from sklearn.metrics import classification_report, confusion_matrix\n",
        "from sklearn.model_selection import train_test_split"
      ]
    },
    {
      "cell_type": "code",
      "execution_count": null,
      "id": "-mwd1WyXr-Vn",
      "metadata": {
        "id": "-mwd1WyXr-Vn"
      },
      "outputs": [],
      "source": [
        "import os\n",
        "import librosa\n",
        "import numpy as np\n",
        "import pandas as pd\n",
        "\n",
        "root_dir = r'speech-emotion-recognition-ravdess-data'\n",
        "\n",
        "data = []\n",
        "\n",
        "emotion_dict = {\n",
        "    '01': 'neutral',\n",
        "    '02': 'calm',\n",
        "    '03': 'happy',\n",
        "    '04': 'sad',\n",
        "    '05': 'angry',\n",
        "    '06': 'fearful',\n",
        "    '07': 'disgust',\n",
        "    '08': 'surprised'\n",
        "}\n",
        "\n",
        "for subdir, _, files in os.walk(root_dir):\n",
        "    for file in files:\n",
        "        if file.endswith('.wav'):\n",
        "            file_path = os.path.join(subdir, file)\n",
        "\n",
        "            identifiers = file.split('-')\n",
        "\n",
        "            emotion_code = identifiers[2]  # 3rd part of the filename\n",
        "            emotion_label = emotion_dict.get(emotion_code, 'unknown')\n",
        "\n",
        "            actor_id_with_ext = identifiers[6]  # 7th part of the filename (string with extension)\n",
        "            actor_id = actor_id_with_ext.split('.')[0]  # Remove the '.wav' extension\n",
        "            gender = 'male' if int(actor_id) % 2 != 0 else 'female'  # Check odd/even for gender\n",
        "\n",
        "            y, sr = librosa.load(file_path, sr=None)\n",
        "\n",
        "            mfccs = librosa.feature.mfcc(y=y, sr=sr, n_mfcc=13)\n",
        "            chromagram = librosa.feature.chroma_stft(y=y, sr=sr)\n",
        "            mel_spectrogram = librosa.feature.melspectrogram(y=y, sr=sr, n_mels=128)\n",
        "            spectral_contrast = librosa.feature.spectral_contrast(y=y, sr=sr)\n",
        "            tonnetz = librosa.feature.tonnetz(y=librosa.effects.harmonic(y), sr=sr)\n",
        "\n",
        "            mfccs_mean = np.mean(mfccs, axis=1)\n",
        "            chromagram_mean = np.mean(chromagram, axis=1)\n",
        "            mel_spectrogram_mean = np.mean(mel_spectrogram, axis=1)\n",
        "            spectral_contrast_mean = np.mean(spectral_contrast, axis=1)\n",
        "            tonnetz_mean = np.mean(tonnetz, axis=1)\n",
        "\n",
        "            feature_vector = np.concatenate((mfccs_mean, chromagram_mean, mel_spectrogram_mean, spectral_contrast_mean, tonnetz_mean))\n",
        "\n",
        "            data.append([file_path, *feature_vector, emotion_label, gender])\n",
        "\n",
        "columns = ['file_path'] + [f'feature_{i}' for i in range(len(feature_vector))] + ['label', 'gender']\n",
        "df = pd.DataFrame(data, columns=columns)\n",
        "\n",
        "df.to_csv('extracted_features_with_gender.csv', index=False)\n",
        "\n",
        "print(\"Feature extraction completed and saved to 'extracted_features_with_gender.csv'\")"
      ]
    },
    {
      "cell_type": "code",
      "execution_count": null,
      "id": "ef7cef9b6fca7f11",
      "metadata": {
        "id": "ef7cef9b6fca7f11"
      },
      "outputs": [],
      "source": []
    }
  ],
  "metadata": {
    "colab": {
      "provenance": []
    },
    "kernelspec": {
      "display_name": "Python 3 (ipykernel)",
      "language": "python",
      "name": "python3"
    },
    "language_info": {
      "codemirror_mode": {
        "name": "ipython",
        "version": 3
      },
      "file_extension": ".py",
      "mimetype": "text/x-python",
      "name": "python",
      "nbconvert_exporter": "python",
      "pygments_lexer": "ipython3",
      "version": "3.12.4"
    }
  },
  "nbformat": 4,
  "nbformat_minor": 5
}
